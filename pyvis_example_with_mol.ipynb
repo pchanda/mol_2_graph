{
 "cells": [
  {
   "cell_type": "code",
   "execution_count": 1,
   "metadata": {},
   "outputs": [],
   "source": [
    "from graph_2_mol import *\n",
    "from mol_2_nx import *"
   ]
  },
  {
   "cell_type": "code",
   "execution_count": 2,
   "metadata": {},
   "outputs": [],
   "source": [
    "with open('cluster_1_graphs.txt','r') as ff:\n",
    "    line = ff.readline()"
   ]
  },
  {
   "cell_type": "code",
   "execution_count": 3,
   "metadata": {},
   "outputs": [
    {
     "name": "stdout",
     "output_type": "stream",
     "text": [
      "Scaffold_1\tO=C1OC(CC)CC=CC(O)C(C(OC)C(CCC(=O)C(C(O)CC(=O)C1)C)C)C\t{30}{0.C:Methylmalonyl-CoA:IC(C(C)F)=O:0:C:6:0:SP2:0:0:false}{1.C:Methylmalonyl-CoA:IC(C(C)F)=O:0:C:6:0:SP3:1:0:false}{2.C:Methylmalonyl-CoA:IC(C(C)F)=O:0:C:6:0:SP3:3:0:false}{3.O:Methylmalonyl-CoA:IC(C(C)F)=O:0:O:8:0:PLANAR3:0:0:false}{4.C:Malonyl-CoA:IC(CF)=O:1:C:6:0:SP2:0:0:false}{5.C:Malonyl-CoA:IC(CF)=O:1:C:6:0:SP3:2:0:false}{7.C:Malonyl-CoA:IC(CF)=O:2:C:6:0:SP2:0:0:false}{8.C:Malonyl-CoA:IC(CF)=O:2:C:6:0:SP3:2:0:false}{9.O:Malonyl-CoA:IC(CF)=O:2:O:8:0:SP2:0:0:false}{10.C:Methylmalonyl-CoA:IC(C(C)F)=O:3:C:6:0:SP2:0:0:false}{11.C:Methylmalonyl-CoA:IC(C(C)F)=O:3:C:6:0:SP3:1:0:false}{12.C:Methylmalonyl-CoA:IC(C(C)F)=O:3:C:6:0:SP3:3:0:false}{13.O:Methylmalonyl-CoA:IC(C(C)F)=O:3:O:8:0:PLANAR3:0:0:false}{14.C:Methylmalonyl-CoA:IC(C(C)F)=O:4:C:6:0:SP2:0:0:false}{15.C:Methylmalonyl-CoA:IC(C(C)F)=O:4:C:6:0:SP3:1:0:false}{16.C:Methylmalonyl-CoA:IC(C(C)F)=O:4:C:6:0:SP3:3:0:false}{18.C:Malonyl-CoA:IC(CF)=O:5:C:6:0:SP2:0:0:false}{19.C:Malonyl-CoA:IC(CF)=O:5:C:6:0:SP3:2:0:false}{20.O:Malonyl-CoA:IC(CF)=O:5:O:8:0:SP2:0:0:false}{21.C:Methylmalonyl-CoA:IC(C(C)F)=O:6:C:6:0:SP2:0:0:false}{22.C:Methylmalonyl-CoA:IC(C(C)F)=O:6:C:6:0:SP3:1:0:false}{23.C:Methylmalonyl-CoA:IC(C(C)F)=O:6:C:6:0:SP3:3:0:false}{24.O:Methylmalonyl-CoA:IC(C(C)F)=O:6:O:8:0:SP2:0:0:false}{25.C:Malonyl-CoA:IC(CF)=O:7:C:6:0:SP2:0:0:false}{26.C:Malonyl-CoA:IC(CF)=O:7:C:6:0:SP3:2:0:false}{27.O:Malonyl-CoA:IC(CF)=O:7:O:8:0:SP2:0:0:false}{28.C:Malonyl-CoA:IC(CF)=O:8:C:6:0:SP2:0:0:false}{29.C:Malonyl-CoA:IC(CF)=O:8:C:6:0:SP3:2:0:false}{30.O:Malonyl-CoA:IC(CF)=O:8:O:8:0:SP2:0:0:false}{32.C:Methyl-group:CI:10:C:6:0:SP3:3:0:false}\t60,19.C-14.C:SINGLE,19.C-18.C:SINGLE,13.O-10.C:SINGLE,4.C-5.C:SINGLE,18.C-20.O:DOUBLE,0.C-1.C:SINGLE,22.C-21.C:SINGLE,22.C-23.C:SINGLE,30.O-28.C:DOUBLE,28.C-30.O:DOUBLE,11.C-7.C:SINGLE,27.O-25.C:DOUBLE,18.C-22.C:SINGLE,29.C-28.C:SINGLE,26.C-21.C:SINGLE,28.C-29.C:SINGLE,1.C-0.C:SINGLE,8.C-7.C:SINGLE,25.C-26.C:SINGLE,26.C-25.C:SINGLE,7.C-8.C:SINGLE,2.C-1.C:SINGLE,28.C-3.O:SINGLE,21.C-24.O:SINGLE,4.C-8.C:DOUBLE,3.O-0.C:SINGLE,13.O-32.C:SINGLE,21.C-26.C:SINGLE,21.C-22.C:SINGLE,23.C-22.C:SINGLE,1.C-2.C:SINGLE,32.C-13.O:SINGLE,7.C-9.O:SINGLE,0.C-3.O:SINGLE,10.C-15.C:SINGLE,24.O-21.C:SINGLE,5.C-4.C:SINGLE,8.C-4.C:DOUBLE,14.C-19.C:SINGLE,9.O-7.C:SINGLE,22.C-18.C:SINGLE,10.C-13.O:SINGLE,5.C-0.C:SINGLE,29.C-25.C:SINGLE,0.C-5.C:SINGLE,3.O-28.C:SINGLE,15.C-14.C:SINGLE,25.C-29.C:SINGLE,16.C-15.C:SINGLE,18.C-19.C:SINGLE,15.C-16.C:SINGLE,7.C-11.C:SINGLE,12.C-11.C:SINGLE,14.C-15.C:SINGLE,15.C-10.C:SINGLE,10.C-11.C:SINGLE,11.C-12.C:SINGLE,25.C-27.O:DOUBLE,11.C-10.C:SINGLE,20.O-18.C:DOUBLE\n",
      "\n",
      "0 0.C Methylmalonyl-CoA IC(C(C)F)=O 0\n",
      "1 1.C Methylmalonyl-CoA IC(C(C)F)=O 0\n",
      "2 2.C Methylmalonyl-CoA IC(C(C)F)=O 0\n",
      "3 3.O Methylmalonyl-CoA IC(C(C)F)=O 0\n",
      "4 4.C Malonyl-CoA IC(CF)=O 1\n",
      "5 5.C Malonyl-CoA IC(CF)=O 1\n",
      "6 7.C Malonyl-CoA IC(CF)=O 2\n",
      "7 8.C Malonyl-CoA IC(CF)=O 2\n",
      "8 9.O Malonyl-CoA IC(CF)=O 2\n",
      "9 10.C Methylmalonyl-CoA IC(C(C)F)=O 3\n",
      "10 11.C Methylmalonyl-CoA IC(C(C)F)=O 3\n",
      "11 12.C Methylmalonyl-CoA IC(C(C)F)=O 3\n",
      "12 13.O Methylmalonyl-CoA IC(C(C)F)=O 3\n",
      "13 14.C Methylmalonyl-CoA IC(C(C)F)=O 4\n",
      "14 15.C Methylmalonyl-CoA IC(C(C)F)=O 4\n",
      "15 16.C Methylmalonyl-CoA IC(C(C)F)=O 4\n",
      "16 18.C Malonyl-CoA IC(CF)=O 5\n",
      "17 19.C Malonyl-CoA IC(CF)=O 5\n",
      "18 20.O Malonyl-CoA IC(CF)=O 5\n",
      "19 21.C Methylmalonyl-CoA IC(C(C)F)=O 6\n",
      "20 22.C Methylmalonyl-CoA IC(C(C)F)=O 6\n",
      "21 23.C Methylmalonyl-CoA IC(C(C)F)=O 6\n",
      "22 24.O Methylmalonyl-CoA IC(C(C)F)=O 6\n",
      "23 25.C Malonyl-CoA IC(CF)=O 7\n",
      "24 26.C Malonyl-CoA IC(CF)=O 7\n",
      "25 27.O Malonyl-CoA IC(CF)=O 7\n",
      "26 28.C Malonyl-CoA IC(CF)=O 8\n",
      "27 29.C Malonyl-CoA IC(CF)=O 8\n",
      "28 30.O Malonyl-CoA IC(CF)=O 8\n",
      "29 32.C Methyl-group CI 10\n",
      "smiles= CCC1CC=CC(O)C(C)C(OC)C(C)CCC(=O)C(C)C(O)CC(=O)CC(=O)O1 \n",
      "\n",
      "new_smiles= CCC1CC=CC(O)C(C)C(OC)C(C)CCC(=O)C(C)C(O)CC(=O)CC(=O)O1 \n",
      "\n",
      "graph and molecule matched\n"
     ]
    }
   ],
   "source": [
    "print(line)\n",
    "mol,mol_smiles,idx_to_info = get_mol_from_graph(line)"
   ]
  },
  {
   "cell_type": "code",
   "execution_count": 4,
   "metadata": {},
   "outputs": [
    {
     "data": {
      "image/png": "[encoded data removed]",
      "text/plain": [
       "<rdkit.Chem.rdchem.RWMol at 0x7f55d3bbba40>"
      ]
     },
     "execution_count": 4,
     "metadata": {},
     "output_type": "execute_result"
    }
   ],
   "source": [
    "#print(mol)\n",
    "#Draw the molecule\n",
    "from rdkit.Chem.Draw import IPythonConsole #Needed to show molecules\n",
    "from rdkit.Chem.Draw.MolDrawing import MolDrawing, DrawingOptions #Only needed if modifying defaults\n",
    "from rdkit.Chem import AllChem\n",
    "DrawingOptions.bondLineWidth=1.8\n",
    "DrawingOptions.atomLabelFontSize=24\n",
    "mol"
   ]
  },
  {
   "cell_type": "code",
   "execution_count": 5,
   "metadata": {},
   "outputs": [],
   "source": [
    "#G = mol_to_nx(mol)"
   ]
  },
  {
   "cell_type": "code",
   "execution_count": 6,
   "metadata": {},
   "outputs": [],
   "source": [
    "#from pyvis import network as net\n",
    "#import networkx as nx\n",
    "#g=net.Network(notebook=True,height=\"750px\", width=\"100%\")\n",
    "#g.from_nx(G)\n",
    "#g.show('molecule.html')"
   ]
  },
  {
   "cell_type": "code",
   "execution_count": 7,
   "metadata": {},
   "outputs": [
    {
     "name": "stdout",
     "output_type": "stream",
     "text": [
      "{0: ['0.C', 'Methylmalonyl-CoA', 'IC(C(C)F)=O', '0'], 1: ['1.C', 'Methylmalonyl-CoA', 'IC(C(C)F)=O', '0'], 2: ['2.C', 'Methylmalonyl-CoA', 'IC(C(C)F)=O', '0'], 3: ['3.O', 'Methylmalonyl-CoA', 'IC(C(C)F)=O', '0'], 4: ['4.C', 'Malonyl-CoA', 'IC(CF)=O', '1'], 5: ['5.C', 'Malonyl-CoA', 'IC(CF)=O', '1'], 6: ['7.C', 'Malonyl-CoA', 'IC(CF)=O', '2'], 7: ['8.C', 'Malonyl-CoA', 'IC(CF)=O', '2'], 8: ['9.O', 'Malonyl-CoA', 'IC(CF)=O', '2'], 9: ['10.C', 'Methylmalonyl-CoA', 'IC(C(C)F)=O', '3'], 10: ['11.C', 'Methylmalonyl-CoA', 'IC(C(C)F)=O', '3'], 11: ['12.C', 'Methylmalonyl-CoA', 'IC(C(C)F)=O', '3'], 12: ['13.O', 'Methylmalonyl-CoA', 'IC(C(C)F)=O', '3'], 13: ['14.C', 'Methylmalonyl-CoA', 'IC(C(C)F)=O', '4'], 14: ['15.C', 'Methylmalonyl-CoA', 'IC(C(C)F)=O', '4'], 15: ['16.C', 'Methylmalonyl-CoA', 'IC(C(C)F)=O', '4'], 16: ['18.C', 'Malonyl-CoA', 'IC(CF)=O', '5'], 17: ['19.C', 'Malonyl-CoA', 'IC(CF)=O', '5'], 18: ['20.O', 'Malonyl-CoA', 'IC(CF)=O', '5'], 19: ['21.C', 'Methylmalonyl-CoA', 'IC(C(C)F)=O', '6'], 20: ['22.C', 'Methylmalonyl-CoA', 'IC(C(C)F)=O', '6'], 21: ['23.C', 'Methylmalonyl-CoA', 'IC(C(C)F)=O', '6'], 22: ['24.O', 'Methylmalonyl-CoA', 'IC(C(C)F)=O', '6'], 23: ['25.C', 'Malonyl-CoA', 'IC(CF)=O', '7'], 24: ['26.C', 'Malonyl-CoA', 'IC(CF)=O', '7'], 25: ['27.O', 'Malonyl-CoA', 'IC(CF)=O', '7'], 26: ['28.C', 'Malonyl-CoA', 'IC(CF)=O', '8'], 27: ['29.C', 'Malonyl-CoA', 'IC(CF)=O', '8'], 28: ['30.O', 'Malonyl-CoA', 'IC(CF)=O', '8'], 29: ['32.C', 'Methyl-group', 'CI', '10']}\n"
     ]
    }
   ],
   "source": [
    "print(idx_to_info)"
   ]
  },
  {
   "cell_type": "code",
   "execution_count": 8,
   "metadata": {},
   "outputs": [
    {
     "data": {
      "text/html": [
       "\n",
       "        <iframe\n",
       "            width=\"100%\"\n",
       "            height=\"750px\"\n",
       "            src=\"molecule.html\"\n",
       "            frameborder=\"0\"\n",
       "            allowfullscreen\n",
       "        ></iframe>\n",
       "        "
      ],
      "text/plain": [
       "<IPython.lib.display.IFrame at 0x7f55d2b55d30>"
      ]
     },
     "execution_count": 8,
     "metadata": {},
     "output_type": "execute_result"
    }
   ],
   "source": [
    "from pyvis.network import Network\n",
    "import matplotlib\n",
    "import random\n",
    "\n",
    "color_dict = matplotlib.colors.cnames\n",
    "color_names = list(color_dict.keys())\n",
    "\n",
    "g1 = Network(height=\"750px\", width=\"100%\",notebook=True)\n",
    "\n",
    "#get all the typs\n",
    "all_typs = []\n",
    "all_orders = []\n",
    "all_keys = []\n",
    "for atom in mol.GetAtoms():\n",
    "    idx = atom.GetIdx()\n",
    "    info = idx_to_info[idx]\n",
    "    typ = info[1]\n",
    "    order = info[3]\n",
    "    if info[1] not in all_typs:\n",
    "        all_typs.append(typ)\n",
    "    if order not in all_orders:\n",
    "        all_orders.append(order)\n",
    "    key = typ+\",\"+order\n",
    "    if key not in all_keys:\n",
    "        all_keys.append(key)\n",
    "\n",
    "\n",
    "use_typ_and_order = True\n",
    "\n",
    "cdict = {}\n",
    "if(len(all_keys)<len(color_names)):  #a color for every typ,order combination\n",
    "    col_indices = random.sample(range(1, len(color_names)), len(all_keys))\n",
    "    for i,key in enumerate(all_keys): \n",
    "        col_idx = col_indices[i]\n",
    "        col = color_names[col_idx]\n",
    "        cdict[key] = col\n",
    "        i += 1\n",
    "else:                  #too many typ,order combinations, so a color for every typ.\n",
    "    cdict = {}\n",
    "    col_indices = random.sample(range(1, len(color_names)), len(all_typs))\n",
    "    for i,typ in enumerate(all_typs):\n",
    "        col_idx = col_indices[i]\n",
    "        col = color_names[col_idx]\n",
    "        cdict[typ] = col\n",
    "    use_typ_and_order = False\n",
    "    \n",
    "#print(all_typs)\n",
    "#print(all_orders)\n",
    "#print(cdict)\n",
    "    \n",
    "for atom in mol.GetAtoms():\n",
    "    idx = atom.GetIdx()\n",
    "    info = idx_to_info[idx]\n",
    "    ID = info[0]\n",
    "    typ = info[1]\n",
    "    order = info[3]\n",
    "    if use_typ_and_order:\n",
    "        key = typ+\",\"+order\n",
    "        g1.add_node(n_id=idx,label=ID,title=typ+','+order,color=cdict[key])\n",
    "    else:\n",
    "        key = typ\n",
    "        g1.add_node(n_id=idx,label=ID,title=typ+','+order,color=cdict[key])\n",
    "\n",
    "for bond in mol.GetBonds():\n",
    "    atom1 = bond.GetBeginAtomIdx()\n",
    "    atom2 = bond.GetEndAtomIdx()\n",
    "    bond_type = bond.GetBondType()\n",
    "    g1.add_edge(atom1,atom2,value=bond_type,color='black')\n",
    "\n",
    "g1.show('molecule.html')"
   ]
  },
  {
   "cell_type": "code",
   "execution_count": 10,
   "metadata": {},
   "outputs": [],
   "source": [
    "cluster_info = {}\n",
    "for atom in mol.GetAtoms():\n",
    "    #print('for idx = ',idx)\n",
    "    idx = atom.GetIdx()\n",
    "    info = idx_to_info[idx]\n",
    "    ID = info[0]\n",
    "    typ = info[1]\n",
    "    order = info[3]\n",
    "    key = typ+\",\"+order\n",
    "    if key in cluster_info:\n",
    "        node_list = cluster_info[key]\n",
    "        if idx not in node_list:\n",
    "            #check if idx is reachable from nodes already in node_list\n",
    "            bonds = atom.GetBonds()\n",
    "            reachable_atoms = [] #atoms reachable from this atom\n",
    "            for b in bonds :\n",
    "                idx1 = b.GetBeginAtomIdx()\n",
    "                idx2 = b.GetEndAtomIdx()\n",
    "                if idx1==idx:\n",
    "                    reachable_atoms.append(idx2)\n",
    "                else:\n",
    "                    reachable_atoms.append(idx1)\n",
    "                #print(reachable_atoms)\n",
    "            #at least one atom in node_list should be in reachable.\n",
    "            reachable = False\n",
    "            for at in node_list:\n",
    "                if at in reachable_atoms:\n",
    "                    reachable = True\n",
    "                    break\n",
    "            if not reachable:\n",
    "                print(\"Clustering error for atom \",idx,info)\n",
    "            node_list.append(idx)\n",
    "    else:\n",
    "        node_list = []\n",
    "        node_list.append(idx)\n",
    "        cluster_info[key] = node_list\n",
    "    #print(cluster_info)\n",
    "    #print('------------------------')\n",
    "        "
   ]
  },
  {
   "cell_type": "code",
   "execution_count": 14,
   "metadata": {},
   "outputs": [
    {
     "name": "stdout",
     "output_type": "stream",
     "text": [
      "{'Methylmalonyl-CoA,0': [0, 1, 2, 3], 'Malonyl-CoA,1': [4, 5], 'Malonyl-CoA,2': [6, 7, 8], 'Methylmalonyl-CoA,3': [9, 10, 11, 12], 'Methylmalonyl-CoA,4': [13, 14, 15], 'Malonyl-CoA,5': [16, 17, 18], 'Methylmalonyl-CoA,6': [19, 20, 21, 22], 'Malonyl-CoA,7': [23, 24, 25], 'Malonyl-CoA,8': [26, 27, 28], 'Methyl-group,10': [29]}\n"
     ]
    },
    {
     "data": {
      "text/html": [
       "\n",
       "        <iframe\n",
       "            width=\"100%\"\n",
       "            height=\"750px\"\n",
       "            src=\"molecule_succint.html\"\n",
       "            frameborder=\"0\"\n",
       "            allowfullscreen\n",
       "        ></iframe>\n",
       "        "
      ],
      "text/plain": [
       "<IPython.lib.display.IFrame at 0x7f55d2b55e48>"
      ]
     },
     "execution_count": 14,
     "metadata": {},
     "output_type": "execute_result"
    }
   ],
   "source": [
    "print(cluster_info)\n",
    "g2 = Network(height=\"750px\", width=\"100%\",notebook=True)\n",
    "\n",
    "c_map = {}\n",
    "n_idx = 0;\n",
    "for key,cluster in cluster_info.items():\n",
    "    g2.add_node(n_id=n_idx,label=key)\n",
    "    c_map[key] = n_idx\n",
    "    n_idx += 1\n",
    "    \n",
    "    \n",
    "for key1,cluster1 in cluster_info.items():\n",
    "    c_id1 = c_map[key1]\n",
    "    for key2,cluster2 in cluster_info.items():\n",
    "        c_id2 = c_map[key2]\n",
    "        if key1==key2:\n",
    "            continue\n",
    "        edge_exists = False\n",
    "        for idx1 in cluster1:\n",
    "            for idx2 in cluster2:\n",
    "                b = mol.GetBondBetweenAtoms(idx1,idx2)\n",
    "                if b is not None:\n",
    "                    g2.add_edge(c_id1,c_id2)\n",
    "                    edge_exists = True\n",
    "                    break\n",
    "            if edge_exists:\n",
    "                break\n",
    "\n",
    "#g2.toggle_physics(True)\n",
    "#g2.toggle_stabilization(False)\n",
    "g2.show('molecule_succint.html')"
   ]
  },
  {
   "cell_type": "code",
   "execution_count": null,
   "metadata": {},
   "outputs": [],
   "source": []
  }
 ],
 "metadata": {
  "kernelspec": {
   "display_name": "chemistry",
   "language": "python",
   "name": "chemistry"
  },
  "language_info": {
   "codemirror_mode": {
    "name": "ipython",
    "version": 3
   },
   "file_extension": ".py",
   "mimetype": "text/x-python",
   "name": "python",
   "nbconvert_exporter": "python",
   "pygments_lexer": "ipython3",
   "version": "3.6.5"
  }
 },
 "nbformat": 4,
 "nbformat_minor": 2
}
